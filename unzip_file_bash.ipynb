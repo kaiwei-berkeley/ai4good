{
 "cells": [
  {
   "cell_type": "code",
   "execution_count": null,
   "metadata": {},
   "outputs": [],
   "source": [
    "# !for i in $(ls *.gz | grep -P -o \".*(?=\\.gz)\");do mkdir $i;mv $i.gz ./$i;cd ./$i; tar -zxf $i.gz;cd ..; done"
   ]
  },
  {
   "cell_type": "code",
   "execution_count": 4,
   "metadata": {},
   "outputs": [
    {
     "name": "stdout",
     "output_type": "stream",
     "text": [
      "data\n",
      "README.md\n",
      "zipfile-cleaning.ipynb\n"
     ]
    }
   ],
   "source": [
    "%%bash\n",
    "ls"
   ]
  },
  {
   "cell_type": "code",
   "execution_count": 5,
   "metadata": {},
   "outputs": [
    {
     "ename": "SyntaxError",
     "evalue": "invalid syntax (<ipython-input-5-4ea746dfaaf8>, line 2)",
     "output_type": "error",
     "traceback": [
      "\u001b[1;36m  File \u001b[1;32m\"<ipython-input-5-4ea746dfaaf8>\"\u001b[1;36m, line \u001b[1;32m2\u001b[0m\n\u001b[1;33m    for i in $(ls *.gz | grep -P -o \".*(?=\\.gz)\");do\u001b[0m\n\u001b[1;37m             ^\u001b[0m\n\u001b[1;31mSyntaxError\u001b[0m\u001b[1;31m:\u001b[0m invalid syntax\n"
     ]
    }
   ],
   "source": [
    "# run in `0001` folder\n",
    "# %%bash\n",
    "total=$(ls|grep -o '\\.gz'|wc -l)\n",
    "count=0\n",
    "for i in $(ls *.gz | grep -P -o \".*(?=\\.gz)\");do \n",
    "mkdir $i;\n",
    "mv $i.gz ./$i;\n",
    "cd ./$i;\n",
    "gunzip -N $i.gz;\n",
    "if [ $(ls | grep -o '\\.tar' | wc -l) -eq 1 ]; then \n",
    "tar -xf *.tar; rm *.tar; \n",
    "fi;\n",
    "cd ..;\n",
    "count=$((count+1));\n",
    "if [ $(($count % 10)) -eq 0 ]; then\n",
    "echo \"finished $count out of $total\";\n",
    "fi;\n",
    "done"
   ]
  },
  {
   "cell_type": "code",
   "execution_count": null,
   "metadata": {},
   "outputs": [],
   "source": []
  }
 ],
 "metadata": {
  "kernelspec": {
   "display_name": "Python 3",
   "language": "python",
   "name": "python3"
  },
  "language_info": {
   "codemirror_mode": {
    "name": "ipython",
    "version": 3
   },
   "file_extension": ".py",
   "mimetype": "text/x-python",
   "name": "python",
   "nbconvert_exporter": "python",
   "pygments_lexer": "ipython3",
   "version": "3.6.7"
  }
 },
 "nbformat": 4,
 "nbformat_minor": 2
}
